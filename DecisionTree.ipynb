{
 "cells": [
  {
   "cell_type": "code",
   "execution_count": 3,
   "metadata": {},
   "outputs": [
    {
     "data": {
      "text/plain": [
       "[['Green', 3, 'Sweet', 'Apple'],\n",
       " ['Yellow', 3, 'Sweet', 'Apple'],\n",
       " ['Red', 1, 'Sweet', 'Grape'],\n",
       " ['Red', 1, 'Sweet', 'Grape'],\n",
       " ['Yellow', 3, 'Sour', 'Lemon']]"
      ]
     },
     "execution_count": 3,
     "metadata": {},
     "output_type": "execute_result"
    }
   ],
   "source": [
    "from decisionTree import DecisionTree\n",
    "\n",
    "data = [\n",
    "    ['Green'    ,3,'Sweet','Apple'],\n",
    "    ['Yellow'   ,3,'Sweet','Apple'],\n",
    "    ['Red'      ,1,'Sweet','Grape'],\n",
    "    ['Red'      ,1,'Sweet','Grape'],\n",
    "    ['Yellow'   ,3,'Sour','Lemon'],\n",
    "\n",
    "]\n",
    "X = [row[:3] for row in data]\n",
    "y = [row[3] for row in data]\n",
    "\n",
    "tree = DecisionTree(X,y)\n",
    "tree.fit()\n",
    "tree.predict_training_set()\n"
   ]
  },
  {
   "cell_type": "code",
   "execution_count": 117,
   "metadata": {},
   "outputs": [
    {
     "data": {
      "text/plain": [
       "[['Green', 3, 'Sweet', {'Apple': 1.0}],\n",
       " ['Yellow', 3, 'Sweet', {'Apple': 1.0}],\n",
       " ['Red', 1, 'Sweet', {'Grape': 1.0}],\n",
       " ['Red', 1, 'Sweet', {'Grape': 1.0}],\n",
       " ['Yellow', 3, 'Sour', {'Lemon': 1.0}]]"
      ]
     },
     "execution_count": 117,
     "metadata": {},
     "output_type": "execute_result"
    }
   ],
   "source": [
    "tree.predict_training_set(probabilities=True)"
   ]
  }
 ],
 "metadata": {
  "kernelspec": {
   "display_name": "Python 3",
   "language": "python",
   "name": "python3"
  },
  "language_info": {
   "codemirror_mode": {
    "name": "ipython",
    "version": 3
   },
   "file_extension": ".py",
   "mimetype": "text/x-python",
   "name": "python",
   "nbconvert_exporter": "python",
   "pygments_lexer": "ipython3",
   "version": "3.12.1"
  }
 },
 "nbformat": 4,
 "nbformat_minor": 2
}
